{
 "cells": [
  {
   "cell_type": "code",
   "execution_count": 1,
   "id": "9adda975",
   "metadata": {},
   "outputs": [],
   "source": [
    "def calculate_sample_size(population_size, confidence_level, margin_of_error):\n",
    "    if confidence_level == 90:\n",
    "        z_score = 1.64\n",
    "    elif confidence_level == 95:\n",
    "        z_score = 1.96\n",
    "    elif confidence_level == 99:\n",
    "        z_score = 2.58\n",
    "    else:\n",
    "        print (\"Unsupported confidence level. Please input a value of 90, 95, or 99.\")\n",
    "        return None\n",
    "\n",
    "# Specify the unknown proportion value\n",
    "    p = 0.5\n",
    "\n",
    "# Perform the calculation\n",
    "    sample_size = ((z_score * z_score * p * (1-p)) / (margin_of_error * margin_of_error))\n",
    "    return int(sample_size)\n",
    "\n"
   ]
  },
  {
   "cell_type": "code",
   "execution_count": 2,
   "id": "af428cf7",
   "metadata": {},
   "outputs": [],
   "source": [
    "def systematic_sample(population, sample_size):\n",
    "    interval = len(population) / sample_size\n",
    "    interval = round(interval)\n",
    "\n",
    "    selected_elements = []\n",
    "\n",
    "    for i in range(0, len(population), interval):\n",
    "        selected_elements.append(population[i])\n",
    "\n",
    "    return selected_elements"
   ]
  },
  {
   "cell_type": "code",
   "execution_count": 3,
   "id": "b1ca3844",
   "metadata": {},
   "outputs": [
    {
     "name": "stdout",
     "output_type": "stream",
     "text": [
      "Enter the population size: 1680000\n",
      "Enter the confidence level, ex 90, 95, or 99: 95\n",
      "Enter the desired margin of error, ex 0.05, 0.10: 0.05\n",
      "The calculated sample size was approximately 384\n",
      "Enter your desired sample size: 384\n",
      "The following elements were selected by systematic random sampling: \n",
      "[1, 4376, 8751, 13126, 17501, 21876, 26251, 30626, 35001, 39376, 43751, 48126, 52501, 56876, 61251, 65626, 70001, 74376, 78751, 83126, 87501, 91876, 96251, 100626, 105001, 109376, 113751, 118126, 122501, 126876, 131251, 135626, 140001, 144376, 148751, 153126, 157501, 161876, 166251, 170626, 175001, 179376, 183751, 188126, 192501, 196876, 201251, 205626, 210001, 214376, 218751, 223126, 227501, 231876, 236251, 240626, 245001, 249376, 253751, 258126, 262501, 266876, 271251, 275626, 280001, 284376, 288751, 293126, 297501, 301876, 306251, 310626, 315001, 319376, 323751, 328126, 332501, 336876, 341251, 345626, 350001, 354376, 358751, 363126, 367501, 371876, 376251, 380626, 385001, 389376, 393751, 398126, 402501, 406876, 411251, 415626, 420001, 424376, 428751, 433126, 437501, 441876, 446251, 450626, 455001, 459376, 463751, 468126, 472501, 476876, 481251, 485626, 490001, 494376, 498751, 503126, 507501, 511876, 516251, 520626, 525001, 529376, 533751, 538126, 542501, 546876, 551251, 555626, 560001, 564376, 568751, 573126, 577501, 581876, 586251, 590626, 595001, 599376, 603751, 608126, 612501, 616876, 621251, 625626, 630001, 634376, 638751, 643126, 647501, 651876, 656251, 660626, 665001, 669376, 673751, 678126, 682501, 686876, 691251, 695626, 700001, 704376, 708751, 713126, 717501, 721876, 726251, 730626, 735001, 739376, 743751, 748126, 752501, 756876, 761251, 765626, 770001, 774376, 778751, 783126, 787501, 791876, 796251, 800626, 805001, 809376, 813751, 818126, 822501, 826876, 831251, 835626, 840001, 844376, 848751, 853126, 857501, 861876, 866251, 870626, 875001, 879376, 883751, 888126, 892501, 896876, 901251, 905626, 910001, 914376, 918751, 923126, 927501, 931876, 936251, 940626, 945001, 949376, 953751, 958126, 962501, 966876, 971251, 975626, 980001, 984376, 988751, 993126, 997501, 1001876, 1006251, 1010626, 1015001, 1019376, 1023751, 1028126, 1032501, 1036876, 1041251, 1045626, 1050001, 1054376, 1058751, 1063126, 1067501, 1071876, 1076251, 1080626, 1085001, 1089376, 1093751, 1098126, 1102501, 1106876, 1111251, 1115626, 1120001, 1124376, 1128751, 1133126, 1137501, 1141876, 1146251, 1150626, 1155001, 1159376, 1163751, 1168126, 1172501, 1176876, 1181251, 1185626, 1190001, 1194376, 1198751, 1203126, 1207501, 1211876, 1216251, 1220626, 1225001, 1229376, 1233751, 1238126, 1242501, 1246876, 1251251, 1255626, 1260001, 1264376, 1268751, 1273126, 1277501, 1281876, 1286251, 1290626, 1295001, 1299376, 1303751, 1308126, 1312501, 1316876, 1321251, 1325626, 1330001, 1334376, 1338751, 1343126, 1347501, 1351876, 1356251, 1360626, 1365001, 1369376, 1373751, 1378126, 1382501, 1386876, 1391251, 1395626, 1400001, 1404376, 1408751, 1413126, 1417501, 1421876, 1426251, 1430626, 1435001, 1439376, 1443751, 1448126, 1452501, 1456876, 1461251, 1465626, 1470001, 1474376, 1478751, 1483126, 1487501, 1491876, 1496251, 1500626, 1505001, 1509376, 1513751, 1518126, 1522501, 1526876, 1531251, 1535626, 1540001, 1544376, 1548751, 1553126, 1557501, 1561876, 1566251, 1570626, 1575001, 1579376, 1583751, 1588126, 1592501, 1596876, 1601251, 1605626, 1610001, 1614376, 1618751, 1623126, 1627501, 1631876, 1636251, 1640626, 1645001, 1649376, 1653751, 1658126, 1662501, 1666876, 1671251, 1675626]\n"
     ]
    }
   ],
   "source": [
    "# Getting user input\n",
    "population_size = int(input(\"Enter the population size: \"))\n",
    "confidence_level = int(input(\"Enter the confidence level, ex 90, 95, or 99: \"))\n",
    "margin_of_error = float(input(\"Enter the desired margin of error, ex 0.05, 0.10: \"))\n",
    "\n",
    "sample_size = calculate_sample_size(population_size, confidence_level, margin_of_error)\n",
    "\n",
    "print(f\"The calculated sample size was approximately {sample_size}\")\n",
    "\n",
    "user_sample_size = int(input(\"Enter your desired sample size: \"))\n",
    "\n",
    "maximum_sample_size = calculate_sample_size(population_size, 99, 0.01)\n",
    "\n",
    "if user_sample_size > maximum_sample_size: \n",
    "    print(\"Sorry, the requested sample size is most likely not feasible, please enter a lower value. \")\n",
    "\n",
    "else:\n",
    "    systematic_sample = systematic_sample(list(range(1, population_size + 1)), sample_size)\n",
    "\n",
    "    print(\"The following elements were selected by systematic random sampling: \")\n",
    "    print(systematic_sample)"
   ]
  },
  {
   "cell_type": "code",
   "execution_count": null,
   "id": "390246c5",
   "metadata": {},
   "outputs": [],
   "source": []
  }
 ],
 "metadata": {
  "kernelspec": {
   "display_name": "Python 3 (ipykernel)",
   "language": "python",
   "name": "python3"
  },
  "language_info": {
   "codemirror_mode": {
    "name": "ipython",
    "version": 3
   },
   "file_extension": ".py",
   "mimetype": "text/x-python",
   "name": "python",
   "nbconvert_exporter": "python",
   "pygments_lexer": "ipython3",
   "version": "3.11.4"
  }
 },
 "nbformat": 4,
 "nbformat_minor": 5
}
